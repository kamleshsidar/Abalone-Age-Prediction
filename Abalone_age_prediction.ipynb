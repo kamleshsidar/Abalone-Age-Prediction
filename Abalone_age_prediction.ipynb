{
  "cells": [
    {
      "cell_type": "markdown",
      "id": "7430de4a",
      "metadata": {
        "id": "7430de4a"
      },
      "source": [
        "<center><h1><u>Abalone age prediction system</u></h1></center>\n",
        "\n",
        "<img src='static/abalone.jpg' style=\"width:250px; height:250px; float:right\"/>\n",
        "\n",
        "## Problem statement\n",
        "Typically, the age of an abalone is determined by cutting the shell through the cone, staining it, and counting the number of rings through a microscope.This process is tedious and time-consuming.<br>\n",
        "<b>Predict the age of abalone from physical measurements.</b>\n",
        "\n"
      ]
    },
    {
      "cell_type": "markdown",
      "id": "722303c6",
      "metadata": {
        "id": "722303c6"
      },
      "source": [
        "## Dataset information \n",
        "- 8 attributes\n",
        "- 4177 instances\n",
        "\n",
        "`Sex`: nominal - M (male), F (female), I (infant)\n",
        "\n",
        "`Length`: continuous - longest shell measurement (in mm)\n",
        "\n",
        "`Diameter`: continuous - measurement perpendicular to legnth (in mm)\n",
        "\n",
        "`Height`: continuous - with meat in shell (in mm)\n",
        "\n",
        "`Whole weight`: continuous - the whole abalone (in grams)\n",
        "\n",
        "`Shucked weight`: continuous - weight of the meat (in grams)\n",
        "\n",
        "`Viscera weight`: continuous - gut weight after bleeding (in grams)\n",
        "\n",
        "`Shell weight`: continuous - after being dried (in grams)\n",
        "\n",
        "`Rings`: integer - +1.5 gives the age in years\n",
        "\n",
        "Dataset source : http://archive.ics.uci.edu/ml/datasets/Abalone"
      ]
    },
    {
      "cell_type": "markdown",
      "id": "97249c9f",
      "metadata": {
        "id": "97249c9f"
      },
      "source": [
        "## 1. Importing modules"
      ]
    },
    {
      "cell_type": "code",
      "execution_count": 186,
      "id": "23d8fb45",
      "metadata": {
        "id": "23d8fb45"
      },
      "outputs": [],
      "source": [
        "import pandas as pd\n",
        "import numpy as np\n",
        "import matplotlib.pyplot as plt\n",
        "import seaborn as sns\n",
        "\n",
        "from sklearn.model_selection import train_test_split\n",
        "from sklearn.metrics import mean_squared_error\n",
        "from sklearn.model_selection import RandomizedSearchCV\n",
        "\n",
        "from sklearn.linear_model import LinearRegression\n",
        "\n",
        "from sklearn.neighbors import KNeighborsRegressor\n",
        "from sklearn.tree import DecisionTreeRegressor\n",
        "from sklearn.ensemble import RandomForestRegressor\n",
        "\n",
        "import pickle\n",
        "import warnings\n",
        "\n",
        "def evaluate(model, X_train, X_cv, X_test, y_train, y_cv, y_test):\n",
        "    model.fit(X_train, y_train)\n",
        "    y_train_preds = model.predict(X_train)\n",
        "    y_test_preds = model.predict(X_test)\n",
        "    y_cv_preds = model.predict(X_cv)\n",
        "    \n",
        "    train_error = np.sqrt(mean_squared_error(y_train, y_train_preds))\n",
        "    test_error =  np.sqrt(mean_squared_error(y_test, y_test_preds))\n",
        "    cv_error =  np.sqrt(mean_squared_error(y_cv, y_cv_preds))\n",
        "    return train_error, cv_error, test_error   \n",
        "\n",
        "warnings.filterwarnings('ignore')\n",
        "sns.set()"
      ]
    },
    {
      "cell_type": "markdown",
      "id": "a8a5a6fc",
      "metadata": {
        "id": "a8a5a6fc"
      },
      "source": [
        "## 2. Loading dataset"
      ]
    },
    {
      "cell_type": "code",
      "execution_count": 187,
      "id": "5826e7c7",
      "metadata": {
        "colab": {
          "base_uri": "https://localhost:8080/",
          "height": 206
        },
        "id": "5826e7c7",
        "outputId": "ef38316c-d8ea-4133-8a69-6552496ee0ba"
      },
      "outputs": [
        {
          "output_type": "execute_result",
          "data": {
            "text/plain": [
              "     sex  length  diameter  height  whole_weight  shucked_weight  \\\n",
              "2528   F    0.60     0.475   0.135        1.4405          0.5885   \n",
              "1258   I    0.43     0.315   0.095        0.3780          0.1750   \n",
              "2322   M    0.53     0.435   0.135        0.7365          0.3275   \n",
              "1134   F    0.57     0.445   0.145        0.8775          0.4120   \n",
              "2966   M    0.67     0.540   0.175        1.4820          0.7390   \n",
              "\n",
              "      viscera_weight  shell_weight   age  \n",
              "2528          0.1910        0.3175  10.5  \n",
              "1258          0.0800        0.1045   9.5  \n",
              "2322          0.1315        0.2200  13.5  \n",
              "1134          0.2170        0.2200   9.5  \n",
              "2966          0.2925        0.3650  11.5  "
            ],
            "text/html": [
              "\n",
              "  <div id=\"df-540182f8-718b-464c-8ad8-96c2ade12c0d\">\n",
              "    <div class=\"colab-df-container\">\n",
              "      <div>\n",
              "<style scoped>\n",
              "    .dataframe tbody tr th:only-of-type {\n",
              "        vertical-align: middle;\n",
              "    }\n",
              "\n",
              "    .dataframe tbody tr th {\n",
              "        vertical-align: top;\n",
              "    }\n",
              "\n",
              "    .dataframe thead th {\n",
              "        text-align: right;\n",
              "    }\n",
              "</style>\n",
              "<table border=\"1\" class=\"dataframe\">\n",
              "  <thead>\n",
              "    <tr style=\"text-align: right;\">\n",
              "      <th></th>\n",
              "      <th>sex</th>\n",
              "      <th>length</th>\n",
              "      <th>diameter</th>\n",
              "      <th>height</th>\n",
              "      <th>whole_weight</th>\n",
              "      <th>shucked_weight</th>\n",
              "      <th>viscera_weight</th>\n",
              "      <th>shell_weight</th>\n",
              "      <th>age</th>\n",
              "    </tr>\n",
              "  </thead>\n",
              "  <tbody>\n",
              "    <tr>\n",
              "      <th>2528</th>\n",
              "      <td>F</td>\n",
              "      <td>0.60</td>\n",
              "      <td>0.475</td>\n",
              "      <td>0.135</td>\n",
              "      <td>1.4405</td>\n",
              "      <td>0.5885</td>\n",
              "      <td>0.1910</td>\n",
              "      <td>0.3175</td>\n",
              "      <td>10.5</td>\n",
              "    </tr>\n",
              "    <tr>\n",
              "      <th>1258</th>\n",
              "      <td>I</td>\n",
              "      <td>0.43</td>\n",
              "      <td>0.315</td>\n",
              "      <td>0.095</td>\n",
              "      <td>0.3780</td>\n",
              "      <td>0.1750</td>\n",
              "      <td>0.0800</td>\n",
              "      <td>0.1045</td>\n",
              "      <td>9.5</td>\n",
              "    </tr>\n",
              "    <tr>\n",
              "      <th>2322</th>\n",
              "      <td>M</td>\n",
              "      <td>0.53</td>\n",
              "      <td>0.435</td>\n",
              "      <td>0.135</td>\n",
              "      <td>0.7365</td>\n",
              "      <td>0.3275</td>\n",
              "      <td>0.1315</td>\n",
              "      <td>0.2200</td>\n",
              "      <td>13.5</td>\n",
              "    </tr>\n",
              "    <tr>\n",
              "      <th>1134</th>\n",
              "      <td>F</td>\n",
              "      <td>0.57</td>\n",
              "      <td>0.445</td>\n",
              "      <td>0.145</td>\n",
              "      <td>0.8775</td>\n",
              "      <td>0.4120</td>\n",
              "      <td>0.2170</td>\n",
              "      <td>0.2200</td>\n",
              "      <td>9.5</td>\n",
              "    </tr>\n",
              "    <tr>\n",
              "      <th>2966</th>\n",
              "      <td>M</td>\n",
              "      <td>0.67</td>\n",
              "      <td>0.540</td>\n",
              "      <td>0.175</td>\n",
              "      <td>1.4820</td>\n",
              "      <td>0.7390</td>\n",
              "      <td>0.2925</td>\n",
              "      <td>0.3650</td>\n",
              "      <td>11.5</td>\n",
              "    </tr>\n",
              "  </tbody>\n",
              "</table>\n",
              "</div>\n",
              "      <button class=\"colab-df-convert\" onclick=\"convertToInteractive('df-540182f8-718b-464c-8ad8-96c2ade12c0d')\"\n",
              "              title=\"Convert this dataframe to an interactive table.\"\n",
              "              style=\"display:none;\">\n",
              "        \n",
              "  <svg xmlns=\"http://www.w3.org/2000/svg\" height=\"24px\"viewBox=\"0 0 24 24\"\n",
              "       width=\"24px\">\n",
              "    <path d=\"M0 0h24v24H0V0z\" fill=\"none\"/>\n",
              "    <path d=\"M18.56 5.44l.94 2.06.94-2.06 2.06-.94-2.06-.94-.94-2.06-.94 2.06-2.06.94zm-11 1L8.5 8.5l.94-2.06 2.06-.94-2.06-.94L8.5 2.5l-.94 2.06-2.06.94zm10 10l.94 2.06.94-2.06 2.06-.94-2.06-.94-.94-2.06-.94 2.06-2.06.94z\"/><path d=\"M17.41 7.96l-1.37-1.37c-.4-.4-.92-.59-1.43-.59-.52 0-1.04.2-1.43.59L10.3 9.45l-7.72 7.72c-.78.78-.78 2.05 0 2.83L4 21.41c.39.39.9.59 1.41.59.51 0 1.02-.2 1.41-.59l7.78-7.78 2.81-2.81c.8-.78.8-2.07 0-2.86zM5.41 20L4 18.59l7.72-7.72 1.47 1.35L5.41 20z\"/>\n",
              "  </svg>\n",
              "      </button>\n",
              "      \n",
              "  <style>\n",
              "    .colab-df-container {\n",
              "      display:flex;\n",
              "      flex-wrap:wrap;\n",
              "      gap: 12px;\n",
              "    }\n",
              "\n",
              "    .colab-df-convert {\n",
              "      background-color: #E8F0FE;\n",
              "      border: none;\n",
              "      border-radius: 50%;\n",
              "      cursor: pointer;\n",
              "      display: none;\n",
              "      fill: #1967D2;\n",
              "      height: 32px;\n",
              "      padding: 0 0 0 0;\n",
              "      width: 32px;\n",
              "    }\n",
              "\n",
              "    .colab-df-convert:hover {\n",
              "      background-color: #E2EBFA;\n",
              "      box-shadow: 0px 1px 2px rgba(60, 64, 67, 0.3), 0px 1px 3px 1px rgba(60, 64, 67, 0.15);\n",
              "      fill: #174EA6;\n",
              "    }\n",
              "\n",
              "    [theme=dark] .colab-df-convert {\n",
              "      background-color: #3B4455;\n",
              "      fill: #D2E3FC;\n",
              "    }\n",
              "\n",
              "    [theme=dark] .colab-df-convert:hover {\n",
              "      background-color: #434B5C;\n",
              "      box-shadow: 0px 1px 3px 1px rgba(0, 0, 0, 0.15);\n",
              "      filter: drop-shadow(0px 1px 2px rgba(0, 0, 0, 0.3));\n",
              "      fill: #FFFFFF;\n",
              "    }\n",
              "  </style>\n",
              "\n",
              "      <script>\n",
              "        const buttonEl =\n",
              "          document.querySelector('#df-540182f8-718b-464c-8ad8-96c2ade12c0d button.colab-df-convert');\n",
              "        buttonEl.style.display =\n",
              "          google.colab.kernel.accessAllowed ? 'block' : 'none';\n",
              "\n",
              "        async function convertToInteractive(key) {\n",
              "          const element = document.querySelector('#df-540182f8-718b-464c-8ad8-96c2ade12c0d');\n",
              "          const dataTable =\n",
              "            await google.colab.kernel.invokeFunction('convertToInteractive',\n",
              "                                                     [key], {});\n",
              "          if (!dataTable) return;\n",
              "\n",
              "          const docLinkHtml = 'Like what you see? Visit the ' +\n",
              "            '<a target=\"_blank\" href=https://colab.research.google.com/notebooks/data_table.ipynb>data table notebook</a>'\n",
              "            + ' to learn more about interactive tables.';\n",
              "          element.innerHTML = '';\n",
              "          dataTable['output_type'] = 'display_data';\n",
              "          await google.colab.output.renderOutput(dataTable, element);\n",
              "          const docLink = document.createElement('div');\n",
              "          docLink.innerHTML = docLinkHtml;\n",
              "          element.appendChild(docLink);\n",
              "        }\n",
              "      </script>\n",
              "    </div>\n",
              "  </div>\n",
              "  "
            ]
          },
          "metadata": {},
          "execution_count": 187
        }
      ],
      "source": [
        "data = pd.read_csv('abalone.data', header=None, index_col=False)\n",
        "\n",
        "data.columns = ['sex', 'length', 'diameter', 'height', 'whole_weight', 'shucked_weight', 'viscera_weight', 'shell_weight', 'rings']\n",
        "\n",
        "data['age'] = data.rings + 1.5 #add target(age) to dataset [rings + 1.5 = age ]\n",
        "\n",
        "data.drop('rings', axis=1, inplace=True) #remove rings variable\n",
        "data.sample(5)"
      ]
    },
    {
      "cell_type": "code",
      "execution_count": 188,
      "id": "4c188699",
      "metadata": {
        "id": "4c188699"
      },
      "outputs": [],
      "source": [
        "X = data.drop('age', axis=1)\n",
        "y = data.age"
      ]
    },
    {
      "cell_type": "markdown",
      "id": "cb798f49",
      "metadata": {
        "id": "cb798f49"
      },
      "source": [
        "## 3. Exploratory data analysis\n",
        "\n",
        "#### 3a. Missing values"
      ]
    },
    {
      "cell_type": "code",
      "execution_count": 189,
      "id": "11711cdb",
      "metadata": {
        "colab": {
          "base_uri": "https://localhost:8080/",
          "height": 332
        },
        "id": "11711cdb",
        "outputId": "8e9cd396-8fdd-4270-9a4d-bddcf50ec880"
      },
      "outputs": [
        {
          "output_type": "execute_result",
          "data": {
            "text/plain": [
              "                Missing values  Missing %\n",
              "sex                          0        0.0\n",
              "length                       0        0.0\n",
              "diameter                     0        0.0\n",
              "height                       0        0.0\n",
              "whole_weight                 0        0.0\n",
              "shucked_weight               0        0.0\n",
              "viscera_weight               0        0.0\n",
              "shell_weight                 0        0.0\n",
              "age                          0        0.0"
            ],
            "text/html": [
              "\n",
              "  <div id=\"df-c24d8032-3a09-4e70-9f59-7380149669cf\">\n",
              "    <div class=\"colab-df-container\">\n",
              "      <div>\n",
              "<style scoped>\n",
              "    .dataframe tbody tr th:only-of-type {\n",
              "        vertical-align: middle;\n",
              "    }\n",
              "\n",
              "    .dataframe tbody tr th {\n",
              "        vertical-align: top;\n",
              "    }\n",
              "\n",
              "    .dataframe thead th {\n",
              "        text-align: right;\n",
              "    }\n",
              "</style>\n",
              "<table border=\"1\" class=\"dataframe\">\n",
              "  <thead>\n",
              "    <tr style=\"text-align: right;\">\n",
              "      <th></th>\n",
              "      <th>Missing values</th>\n",
              "      <th>Missing %</th>\n",
              "    </tr>\n",
              "  </thead>\n",
              "  <tbody>\n",
              "    <tr>\n",
              "      <th>sex</th>\n",
              "      <td>0</td>\n",
              "      <td>0.0</td>\n",
              "    </tr>\n",
              "    <tr>\n",
              "      <th>length</th>\n",
              "      <td>0</td>\n",
              "      <td>0.0</td>\n",
              "    </tr>\n",
              "    <tr>\n",
              "      <th>diameter</th>\n",
              "      <td>0</td>\n",
              "      <td>0.0</td>\n",
              "    </tr>\n",
              "    <tr>\n",
              "      <th>height</th>\n",
              "      <td>0</td>\n",
              "      <td>0.0</td>\n",
              "    </tr>\n",
              "    <tr>\n",
              "      <th>whole_weight</th>\n",
              "      <td>0</td>\n",
              "      <td>0.0</td>\n",
              "    </tr>\n",
              "    <tr>\n",
              "      <th>shucked_weight</th>\n",
              "      <td>0</td>\n",
              "      <td>0.0</td>\n",
              "    </tr>\n",
              "    <tr>\n",
              "      <th>viscera_weight</th>\n",
              "      <td>0</td>\n",
              "      <td>0.0</td>\n",
              "    </tr>\n",
              "    <tr>\n",
              "      <th>shell_weight</th>\n",
              "      <td>0</td>\n",
              "      <td>0.0</td>\n",
              "    </tr>\n",
              "    <tr>\n",
              "      <th>age</th>\n",
              "      <td>0</td>\n",
              "      <td>0.0</td>\n",
              "    </tr>\n",
              "  </tbody>\n",
              "</table>\n",
              "</div>\n",
              "      <button class=\"colab-df-convert\" onclick=\"convertToInteractive('df-c24d8032-3a09-4e70-9f59-7380149669cf')\"\n",
              "              title=\"Convert this dataframe to an interactive table.\"\n",
              "              style=\"display:none;\">\n",
              "        \n",
              "  <svg xmlns=\"http://www.w3.org/2000/svg\" height=\"24px\"viewBox=\"0 0 24 24\"\n",
              "       width=\"24px\">\n",
              "    <path d=\"M0 0h24v24H0V0z\" fill=\"none\"/>\n",
              "    <path d=\"M18.56 5.44l.94 2.06.94-2.06 2.06-.94-2.06-.94-.94-2.06-.94 2.06-2.06.94zm-11 1L8.5 8.5l.94-2.06 2.06-.94-2.06-.94L8.5 2.5l-.94 2.06-2.06.94zm10 10l.94 2.06.94-2.06 2.06-.94-2.06-.94-.94-2.06-.94 2.06-2.06.94z\"/><path d=\"M17.41 7.96l-1.37-1.37c-.4-.4-.92-.59-1.43-.59-.52 0-1.04.2-1.43.59L10.3 9.45l-7.72 7.72c-.78.78-.78 2.05 0 2.83L4 21.41c.39.39.9.59 1.41.59.51 0 1.02-.2 1.41-.59l7.78-7.78 2.81-2.81c.8-.78.8-2.07 0-2.86zM5.41 20L4 18.59l7.72-7.72 1.47 1.35L5.41 20z\"/>\n",
              "  </svg>\n",
              "      </button>\n",
              "      \n",
              "  <style>\n",
              "    .colab-df-container {\n",
              "      display:flex;\n",
              "      flex-wrap:wrap;\n",
              "      gap: 12px;\n",
              "    }\n",
              "\n",
              "    .colab-df-convert {\n",
              "      background-color: #E8F0FE;\n",
              "      border: none;\n",
              "      border-radius: 50%;\n",
              "      cursor: pointer;\n",
              "      display: none;\n",
              "      fill: #1967D2;\n",
              "      height: 32px;\n",
              "      padding: 0 0 0 0;\n",
              "      width: 32px;\n",
              "    }\n",
              "\n",
              "    .colab-df-convert:hover {\n",
              "      background-color: #E2EBFA;\n",
              "      box-shadow: 0px 1px 2px rgba(60, 64, 67, 0.3), 0px 1px 3px 1px rgba(60, 64, 67, 0.15);\n",
              "      fill: #174EA6;\n",
              "    }\n",
              "\n",
              "    [theme=dark] .colab-df-convert {\n",
              "      background-color: #3B4455;\n",
              "      fill: #D2E3FC;\n",
              "    }\n",
              "\n",
              "    [theme=dark] .colab-df-convert:hover {\n",
              "      background-color: #434B5C;\n",
              "      box-shadow: 0px 1px 3px 1px rgba(0, 0, 0, 0.15);\n",
              "      filter: drop-shadow(0px 1px 2px rgba(0, 0, 0, 0.3));\n",
              "      fill: #FFFFFF;\n",
              "    }\n",
              "  </style>\n",
              "\n",
              "      <script>\n",
              "        const buttonEl =\n",
              "          document.querySelector('#df-c24d8032-3a09-4e70-9f59-7380149669cf button.colab-df-convert');\n",
              "        buttonEl.style.display =\n",
              "          google.colab.kernel.accessAllowed ? 'block' : 'none';\n",
              "\n",
              "        async function convertToInteractive(key) {\n",
              "          const element = document.querySelector('#df-c24d8032-3a09-4e70-9f59-7380149669cf');\n",
              "          const dataTable =\n",
              "            await google.colab.kernel.invokeFunction('convertToInteractive',\n",
              "                                                     [key], {});\n",
              "          if (!dataTable) return;\n",
              "\n",
              "          const docLinkHtml = 'Like what you see? Visit the ' +\n",
              "            '<a target=\"_blank\" href=https://colab.research.google.com/notebooks/data_table.ipynb>data table notebook</a>'\n",
              "            + ' to learn more about interactive tables.';\n",
              "          element.innerHTML = '';\n",
              "          dataTable['output_type'] = 'display_data';\n",
              "          await google.colab.output.renderOutput(dataTable, element);\n",
              "          const docLink = document.createElement('div');\n",
              "          docLink.innerHTML = docLinkHtml;\n",
              "          element.appendChild(docLink);\n",
              "        }\n",
              "      </script>\n",
              "    </div>\n",
              "  </div>\n",
              "  "
            ]
          },
          "metadata": {},
          "execution_count": 189
        }
      ],
      "source": [
        "missing_values = data.isnull().sum().sort_values(ascending = False)\n",
        "percentage_missing_values = (missing_values/len(data))*100\n",
        "pd.concat([missing_values, percentage_missing_values], axis = 1, keys= ['Missing values', 'Missing %'])"
      ]
    },
    {
      "cell_type": "markdown",
      "id": "39298de4",
      "metadata": {
        "id": "39298de4"
      },
      "source": [
        "Observation: There are no missing values in the dataset"
      ]
    },
    {
      "cell_type": "markdown",
      "id": "287c12ef",
      "metadata": {
        "id": "287c12ef"
      },
      "source": [
        "#### 3b. Variable Identification"
      ]
    },
    {
      "cell_type": "code",
      "execution_count": 190,
      "id": "69815182",
      "metadata": {
        "colab": {
          "base_uri": "https://localhost:8080/",
          "height": 332
        },
        "id": "69815182",
        "outputId": "0a977d2a-5ad5-4255-8e80-900daef0dd57"
      },
      "outputs": [
        {
          "output_type": "execute_result",
          "data": {
            "text/plain": [
              "         variable    dtype     identity\n",
              "0             sex   object  categorical\n",
              "1          length  float64   continuous\n",
              "2        diameter  float64   continuous\n",
              "3          height  float64   continuous\n",
              "4    whole_weight  float64   continuous\n",
              "5  shucked_weight  float64   continuous\n",
              "6  viscera_weight  float64   continuous\n",
              "7    shell_weight  float64   continuous\n",
              "8             age  float64   continuous"
            ],
            "text/html": [
              "\n",
              "  <div id=\"df-0338abcb-645d-4cc9-99e3-20f2946a3e71\">\n",
              "    <div class=\"colab-df-container\">\n",
              "      <div>\n",
              "<style scoped>\n",
              "    .dataframe tbody tr th:only-of-type {\n",
              "        vertical-align: middle;\n",
              "    }\n",
              "\n",
              "    .dataframe tbody tr th {\n",
              "        vertical-align: top;\n",
              "    }\n",
              "\n",
              "    .dataframe thead th {\n",
              "        text-align: right;\n",
              "    }\n",
              "</style>\n",
              "<table border=\"1\" class=\"dataframe\">\n",
              "  <thead>\n",
              "    <tr style=\"text-align: right;\">\n",
              "      <th></th>\n",
              "      <th>variable</th>\n",
              "      <th>dtype</th>\n",
              "      <th>identity</th>\n",
              "    </tr>\n",
              "  </thead>\n",
              "  <tbody>\n",
              "    <tr>\n",
              "      <th>0</th>\n",
              "      <td>sex</td>\n",
              "      <td>object</td>\n",
              "      <td>categorical</td>\n",
              "    </tr>\n",
              "    <tr>\n",
              "      <th>1</th>\n",
              "      <td>length</td>\n",
              "      <td>float64</td>\n",
              "      <td>continuous</td>\n",
              "    </tr>\n",
              "    <tr>\n",
              "      <th>2</th>\n",
              "      <td>diameter</td>\n",
              "      <td>float64</td>\n",
              "      <td>continuous</td>\n",
              "    </tr>\n",
              "    <tr>\n",
              "      <th>3</th>\n",
              "      <td>height</td>\n",
              "      <td>float64</td>\n",
              "      <td>continuous</td>\n",
              "    </tr>\n",
              "    <tr>\n",
              "      <th>4</th>\n",
              "      <td>whole_weight</td>\n",
              "      <td>float64</td>\n",
              "      <td>continuous</td>\n",
              "    </tr>\n",
              "    <tr>\n",
              "      <th>5</th>\n",
              "      <td>shucked_weight</td>\n",
              "      <td>float64</td>\n",
              "      <td>continuous</td>\n",
              "    </tr>\n",
              "    <tr>\n",
              "      <th>6</th>\n",
              "      <td>viscera_weight</td>\n",
              "      <td>float64</td>\n",
              "      <td>continuous</td>\n",
              "    </tr>\n",
              "    <tr>\n",
              "      <th>7</th>\n",
              "      <td>shell_weight</td>\n",
              "      <td>float64</td>\n",
              "      <td>continuous</td>\n",
              "    </tr>\n",
              "    <tr>\n",
              "      <th>8</th>\n",
              "      <td>age</td>\n",
              "      <td>float64</td>\n",
              "      <td>continuous</td>\n",
              "    </tr>\n",
              "  </tbody>\n",
              "</table>\n",
              "</div>\n",
              "      <button class=\"colab-df-convert\" onclick=\"convertToInteractive('df-0338abcb-645d-4cc9-99e3-20f2946a3e71')\"\n",
              "              title=\"Convert this dataframe to an interactive table.\"\n",
              "              style=\"display:none;\">\n",
              "        \n",
              "  <svg xmlns=\"http://www.w3.org/2000/svg\" height=\"24px\"viewBox=\"0 0 24 24\"\n",
              "       width=\"24px\">\n",
              "    <path d=\"M0 0h24v24H0V0z\" fill=\"none\"/>\n",
              "    <path d=\"M18.56 5.44l.94 2.06.94-2.06 2.06-.94-2.06-.94-.94-2.06-.94 2.06-2.06.94zm-11 1L8.5 8.5l.94-2.06 2.06-.94-2.06-.94L8.5 2.5l-.94 2.06-2.06.94zm10 10l.94 2.06.94-2.06 2.06-.94-2.06-.94-.94-2.06-.94 2.06-2.06.94z\"/><path d=\"M17.41 7.96l-1.37-1.37c-.4-.4-.92-.59-1.43-.59-.52 0-1.04.2-1.43.59L10.3 9.45l-7.72 7.72c-.78.78-.78 2.05 0 2.83L4 21.41c.39.39.9.59 1.41.59.51 0 1.02-.2 1.41-.59l7.78-7.78 2.81-2.81c.8-.78.8-2.07 0-2.86zM5.41 20L4 18.59l7.72-7.72 1.47 1.35L5.41 20z\"/>\n",
              "  </svg>\n",
              "      </button>\n",
              "      \n",
              "  <style>\n",
              "    .colab-df-container {\n",
              "      display:flex;\n",
              "      flex-wrap:wrap;\n",
              "      gap: 12px;\n",
              "    }\n",
              "\n",
              "    .colab-df-convert {\n",
              "      background-color: #E8F0FE;\n",
              "      border: none;\n",
              "      border-radius: 50%;\n",
              "      cursor: pointer;\n",
              "      display: none;\n",
              "      fill: #1967D2;\n",
              "      height: 32px;\n",
              "      padding: 0 0 0 0;\n",
              "      width: 32px;\n",
              "    }\n",
              "\n",
              "    .colab-df-convert:hover {\n",
              "      background-color: #E2EBFA;\n",
              "      box-shadow: 0px 1px 2px rgba(60, 64, 67, 0.3), 0px 1px 3px 1px rgba(60, 64, 67, 0.15);\n",
              "      fill: #174EA6;\n",
              "    }\n",
              "\n",
              "    [theme=dark] .colab-df-convert {\n",
              "      background-color: #3B4455;\n",
              "      fill: #D2E3FC;\n",
              "    }\n",
              "\n",
              "    [theme=dark] .colab-df-convert:hover {\n",
              "      background-color: #434B5C;\n",
              "      box-shadow: 0px 1px 3px 1px rgba(0, 0, 0, 0.15);\n",
              "      filter: drop-shadow(0px 1px 2px rgba(0, 0, 0, 0.3));\n",
              "      fill: #FFFFFF;\n",
              "    }\n",
              "  </style>\n",
              "\n",
              "      <script>\n",
              "        const buttonEl =\n",
              "          document.querySelector('#df-0338abcb-645d-4cc9-99e3-20f2946a3e71 button.colab-df-convert');\n",
              "        buttonEl.style.display =\n",
              "          google.colab.kernel.accessAllowed ? 'block' : 'none';\n",
              "\n",
              "        async function convertToInteractive(key) {\n",
              "          const element = document.querySelector('#df-0338abcb-645d-4cc9-99e3-20f2946a3e71');\n",
              "          const dataTable =\n",
              "            await google.colab.kernel.invokeFunction('convertToInteractive',\n",
              "                                                     [key], {});\n",
              "          if (!dataTable) return;\n",
              "\n",
              "          const docLinkHtml = 'Like what you see? Visit the ' +\n",
              "            '<a target=\"_blank\" href=https://colab.research.google.com/notebooks/data_table.ipynb>data table notebook</a>'\n",
              "            + ' to learn more about interactive tables.';\n",
              "          element.innerHTML = '';\n",
              "          dataTable['output_type'] = 'display_data';\n",
              "          await google.colab.output.renderOutput(dataTable, element);\n",
              "          const docLink = document.createElement('div');\n",
              "          docLink.innerHTML = docLinkHtml;\n",
              "          element.appendChild(docLink);\n",
              "        }\n",
              "      </script>\n",
              "    </div>\n",
              "  </div>\n",
              "  "
            ]
          },
          "metadata": {},
          "execution_count": 190
        }
      ],
      "source": [
        "vid = ['categorical' if data[col].dtype == object else 'continuous' for col in data.columns]\n",
        "\n",
        "temp = pd.DataFrame([data.columns, data.dtypes, vid]).T\n",
        "temp.columns = ['variable', 'dtype', 'identity']\n",
        "\n",
        "num_vars = X.select_dtypes(include=[np.number]).columns.values\n",
        "cat_vars = X.select_dtypes(include=[object]).columns.values\n",
        "\n",
        "temp"
      ]
    },
    {
      "cell_type": "markdown",
      "id": "f5cf2a67",
      "metadata": {
        "id": "f5cf2a67"
      },
      "source": [
        "Observation: \n",
        "\n",
        "Continuous features (7):\n",
        "length, diameter, height, whole_weight, shucked_weight, viscera_weight, shell_weight\n",
        "\n",
        "Categorical features (1): \n",
        "sex"
      ]
    },
    {
      "cell_type": "markdown",
      "id": "565eec42",
      "metadata": {
        "id": "565eec42"
      },
      "source": [
        "### 3c. Univariate Analysis\n",
        "\n",
        "#### 3c.(i) Continuous variables"
      ]
    },
    {
      "cell_type": "code",
      "execution_count": 191,
      "id": "28fc4f69",
      "metadata": {
        "colab": {
          "base_uri": "https://localhost:8080/",
          "height": 269
        },
        "id": "28fc4f69",
        "outputId": "24d08dcf-0c27-490b-c60a-437f875fbf50"
      },
      "outputs": [
        {
          "output_type": "execute_result",
          "data": {
            "text/plain": [
              "         variable      mean  median    mode     min     max       std  \\\n",
              "0          length  0.523992  0.5450  0.5500  0.0750  0.8150  0.120093   \n",
              "1        diameter  0.407881  0.4250  0.4500  0.0550  0.6500  0.099240   \n",
              "2          height  0.139516  0.1400  0.1500  0.0000  1.1300  0.041827   \n",
              "3    whole_weight  0.828742  0.7995  0.2225  0.0020  2.8255  0.490389   \n",
              "4  shucked_weight  0.359367  0.3360  0.1750  0.0010  1.4880  0.221963   \n",
              "5  viscera_weight  0.180594  0.1710  0.1715  0.0005  0.7600  0.109614   \n",
              "6    shell_weight  0.238831  0.2340  0.2750  0.0015  1.0050  0.139203   \n",
              "\n",
              "   skewness   kurtosis  \n",
              "0 -0.639873   0.064621  \n",
              "1 -0.609198  -0.045476  \n",
              "2  3.128817  76.025509  \n",
              "3  0.530959  -0.023644  \n",
              "4  0.719098   0.595124  \n",
              "5  0.591852   0.084012  \n",
              "6  0.620927   0.531926  "
            ],
            "text/html": [
              "\n",
              "  <div id=\"df-2b84e168-3d49-482b-89c3-5a1f1c6a8f03\">\n",
              "    <div class=\"colab-df-container\">\n",
              "      <div>\n",
              "<style scoped>\n",
              "    .dataframe tbody tr th:only-of-type {\n",
              "        vertical-align: middle;\n",
              "    }\n",
              "\n",
              "    .dataframe tbody tr th {\n",
              "        vertical-align: top;\n",
              "    }\n",
              "\n",
              "    .dataframe thead th {\n",
              "        text-align: right;\n",
              "    }\n",
              "</style>\n",
              "<table border=\"1\" class=\"dataframe\">\n",
              "  <thead>\n",
              "    <tr style=\"text-align: right;\">\n",
              "      <th></th>\n",
              "      <th>variable</th>\n",
              "      <th>mean</th>\n",
              "      <th>median</th>\n",
              "      <th>mode</th>\n",
              "      <th>min</th>\n",
              "      <th>max</th>\n",
              "      <th>std</th>\n",
              "      <th>skewness</th>\n",
              "      <th>kurtosis</th>\n",
              "    </tr>\n",
              "  </thead>\n",
              "  <tbody>\n",
              "    <tr>\n",
              "      <th>0</th>\n",
              "      <td>length</td>\n",
              "      <td>0.523992</td>\n",
              "      <td>0.5450</td>\n",
              "      <td>0.5500</td>\n",
              "      <td>0.0750</td>\n",
              "      <td>0.8150</td>\n",
              "      <td>0.120093</td>\n",
              "      <td>-0.639873</td>\n",
              "      <td>0.064621</td>\n",
              "    </tr>\n",
              "    <tr>\n",
              "      <th>1</th>\n",
              "      <td>diameter</td>\n",
              "      <td>0.407881</td>\n",
              "      <td>0.4250</td>\n",
              "      <td>0.4500</td>\n",
              "      <td>0.0550</td>\n",
              "      <td>0.6500</td>\n",
              "      <td>0.099240</td>\n",
              "      <td>-0.609198</td>\n",
              "      <td>-0.045476</td>\n",
              "    </tr>\n",
              "    <tr>\n",
              "      <th>2</th>\n",
              "      <td>height</td>\n",
              "      <td>0.139516</td>\n",
              "      <td>0.1400</td>\n",
              "      <td>0.1500</td>\n",
              "      <td>0.0000</td>\n",
              "      <td>1.1300</td>\n",
              "      <td>0.041827</td>\n",
              "      <td>3.128817</td>\n",
              "      <td>76.025509</td>\n",
              "    </tr>\n",
              "    <tr>\n",
              "      <th>3</th>\n",
              "      <td>whole_weight</td>\n",
              "      <td>0.828742</td>\n",
              "      <td>0.7995</td>\n",
              "      <td>0.2225</td>\n",
              "      <td>0.0020</td>\n",
              "      <td>2.8255</td>\n",
              "      <td>0.490389</td>\n",
              "      <td>0.530959</td>\n",
              "      <td>-0.023644</td>\n",
              "    </tr>\n",
              "    <tr>\n",
              "      <th>4</th>\n",
              "      <td>shucked_weight</td>\n",
              "      <td>0.359367</td>\n",
              "      <td>0.3360</td>\n",
              "      <td>0.1750</td>\n",
              "      <td>0.0010</td>\n",
              "      <td>1.4880</td>\n",
              "      <td>0.221963</td>\n",
              "      <td>0.719098</td>\n",
              "      <td>0.595124</td>\n",
              "    </tr>\n",
              "    <tr>\n",
              "      <th>5</th>\n",
              "      <td>viscera_weight</td>\n",
              "      <td>0.180594</td>\n",
              "      <td>0.1710</td>\n",
              "      <td>0.1715</td>\n",
              "      <td>0.0005</td>\n",
              "      <td>0.7600</td>\n",
              "      <td>0.109614</td>\n",
              "      <td>0.591852</td>\n",
              "      <td>0.084012</td>\n",
              "    </tr>\n",
              "    <tr>\n",
              "      <th>6</th>\n",
              "      <td>shell_weight</td>\n",
              "      <td>0.238831</td>\n",
              "      <td>0.2340</td>\n",
              "      <td>0.2750</td>\n",
              "      <td>0.0015</td>\n",
              "      <td>1.0050</td>\n",
              "      <td>0.139203</td>\n",
              "      <td>0.620927</td>\n",
              "      <td>0.531926</td>\n",
              "    </tr>\n",
              "  </tbody>\n",
              "</table>\n",
              "</div>\n",
              "      <button class=\"colab-df-convert\" onclick=\"convertToInteractive('df-2b84e168-3d49-482b-89c3-5a1f1c6a8f03')\"\n",
              "              title=\"Convert this dataframe to an interactive table.\"\n",
              "              style=\"display:none;\">\n",
              "        \n",
              "  <svg xmlns=\"http://www.w3.org/2000/svg\" height=\"24px\"viewBox=\"0 0 24 24\"\n",
              "       width=\"24px\">\n",
              "    <path d=\"M0 0h24v24H0V0z\" fill=\"none\"/>\n",
              "    <path d=\"M18.56 5.44l.94 2.06.94-2.06 2.06-.94-2.06-.94-.94-2.06-.94 2.06-2.06.94zm-11 1L8.5 8.5l.94-2.06 2.06-.94-2.06-.94L8.5 2.5l-.94 2.06-2.06.94zm10 10l.94 2.06.94-2.06 2.06-.94-2.06-.94-.94-2.06-.94 2.06-2.06.94z\"/><path d=\"M17.41 7.96l-1.37-1.37c-.4-.4-.92-.59-1.43-.59-.52 0-1.04.2-1.43.59L10.3 9.45l-7.72 7.72c-.78.78-.78 2.05 0 2.83L4 21.41c.39.39.9.59 1.41.59.51 0 1.02-.2 1.41-.59l7.78-7.78 2.81-2.81c.8-.78.8-2.07 0-2.86zM5.41 20L4 18.59l7.72-7.72 1.47 1.35L5.41 20z\"/>\n",
              "  </svg>\n",
              "      </button>\n",
              "      \n",
              "  <style>\n",
              "    .colab-df-container {\n",
              "      display:flex;\n",
              "      flex-wrap:wrap;\n",
              "      gap: 12px;\n",
              "    }\n",
              "\n",
              "    .colab-df-convert {\n",
              "      background-color: #E8F0FE;\n",
              "      border: none;\n",
              "      border-radius: 50%;\n",
              "      cursor: pointer;\n",
              "      display: none;\n",
              "      fill: #1967D2;\n",
              "      height: 32px;\n",
              "      padding: 0 0 0 0;\n",
              "      width: 32px;\n",
              "    }\n",
              "\n",
              "    .colab-df-convert:hover {\n",
              "      background-color: #E2EBFA;\n",
              "      box-shadow: 0px 1px 2px rgba(60, 64, 67, 0.3), 0px 1px 3px 1px rgba(60, 64, 67, 0.15);\n",
              "      fill: #174EA6;\n",
              "    }\n",
              "\n",
              "    [theme=dark] .colab-df-convert {\n",
              "      background-color: #3B4455;\n",
              "      fill: #D2E3FC;\n",
              "    }\n",
              "\n",
              "    [theme=dark] .colab-df-convert:hover {\n",
              "      background-color: #434B5C;\n",
              "      box-shadow: 0px 1px 3px 1px rgba(0, 0, 0, 0.15);\n",
              "      filter: drop-shadow(0px 1px 2px rgba(0, 0, 0, 0.3));\n",
              "      fill: #FFFFFF;\n",
              "    }\n",
              "  </style>\n",
              "\n",
              "      <script>\n",
              "        const buttonEl =\n",
              "          document.querySelector('#df-2b84e168-3d49-482b-89c3-5a1f1c6a8f03 button.colab-df-convert');\n",
              "        buttonEl.style.display =\n",
              "          google.colab.kernel.accessAllowed ? 'block' : 'none';\n",
              "\n",
              "        async function convertToInteractive(key) {\n",
              "          const element = document.querySelector('#df-2b84e168-3d49-482b-89c3-5a1f1c6a8f03');\n",
              "          const dataTable =\n",
              "            await google.colab.kernel.invokeFunction('convertToInteractive',\n",
              "                                                     [key], {});\n",
              "          if (!dataTable) return;\n",
              "\n",
              "          const docLinkHtml = 'Like what you see? Visit the ' +\n",
              "            '<a target=\"_blank\" href=https://colab.research.google.com/notebooks/data_table.ipynb>data table notebook</a>'\n",
              "            + ' to learn more about interactive tables.';\n",
              "          element.innerHTML = '';\n",
              "          dataTable['output_type'] = 'display_data';\n",
              "          await google.colab.output.renderOutput(dataTable, element);\n",
              "          const docLink = document.createElement('div');\n",
              "          docLink.innerHTML = docLinkHtml;\n",
              "          element.appendChild(docLink);\n",
              "        }\n",
              "      </script>\n",
              "    </div>\n",
              "  </div>\n",
              "  "
            ]
          },
          "metadata": {},
          "execution_count": 191
        }
      ],
      "source": [
        "temp = pd.DataFrame([X[num_vars].mean(), \n",
        "                  X[num_vars].median(),\n",
        "                  X[num_vars].mode().iloc[0],\n",
        "                  X[num_vars].min(),\n",
        "                  X[num_vars].max(),\n",
        "                  X[num_vars].std(),\n",
        "                  X[num_vars].skew(),\n",
        "                  X[num_vars].kurtosis()\n",
        "                 ]).T.reset_index()\n",
        "temp.columns = ['variable','mean','median','mode', 'min', 'max', 'std', 'skewness', 'kurtosis']\n",
        "temp"
      ]
    },
    {
      "cell_type": "code",
      "execution_count": 192,
      "id": "dbb9b34c",
      "metadata": {
        "colab": {
          "base_uri": "https://localhost:8080/",
          "height": 609
        },
        "id": "dbb9b34c",
        "outputId": "4353789d-6d87-45a4-e684-7f3bf296eaea"
      },
      "outputs": [
        {
          "output_type": "display_data",
          "data": {
            "text/plain": [
              "<Figure size 1440x720 with 9 Axes>"
            ],
            "image/png": "[encoded data removed]"
          },
          "metadata": {}
        }
      ],
      "source": [
        "#Histogram\n",
        "X[num_vars].hist(figsize=(20,10), bins=30)\n",
        "plt.show()"
      ]
    },
    {
      "cell_type": "code",
      "execution_count": 193,
      "id": "30f8cba9",
      "metadata": {
        "colab": {
          "base_uri": "https://localhost:8080/",
          "height": 486
        },
        "id": "30f8cba9",
        "outputId": "4a8fec27-4c88-4c0d-acbe-1487629ee3c0"
      },
      "outputs": [
        {
          "output_type": "display_data",
          "data": {
            "text/plain": [
              "<Figure size 1440x576 with 1 Axes>"
            ],
            "image/png": "[encoded data removed]"
          },
          "metadata": {}
        }
      ],
      "source": [
        "#Boxplot\n",
        "X[num_vars].plot(kind='box',figsize=(20,8))\n",
        "plt.show()"
      ]
    },
    {
      "cell_type": "code",
      "execution_count": 194,
      "id": "acfc5f65",
      "metadata": {
        "colab": {
          "base_uri": "https://localhost:8080/",
          "height": 322
        },
        "id": "acfc5f65",
        "outputId": "cd6d9156-a27c-41c9-db35-fe18f97d84b9"
      },
      "outputs": [
        {
          "output_type": "display_data",
          "data": {
            "text/plain": [
              "<Figure size 72x360 with 1 Axes>"
            ],
            "image/png": "[encoded data removed]"
          },
          "metadata": {}
        }
      ],
      "source": [
        "#Correlation btw variables and target\n",
        "plt.figure(figsize=(1,5))\n",
        "sns.heatmap(\n",
        "    data.corr(method='pearson')[['age']].sort_values('age', ascending=False), \n",
        "    annot=True, cbar=False, cmap='Blues')\n",
        "plt.show()"
      ]
    },
    {
      "cell_type": "markdown",
      "id": "3da06187",
      "metadata": {
        "id": "3da06187"
      },
      "source": [
        "Obeservation :<br>\n",
        "- Distribution of continuous variables<br>\n",
        "- Outliers are present in some variables<br>\n",
        "- height variable outliers should be removed<br>\n",
        "- shell_weight is the most correlated variable with target"
      ]
    },
    {
      "cell_type": "markdown",
      "id": "026d9ef3",
      "metadata": {
        "id": "026d9ef3"
      },
      "source": [
        "#### 3c.(ii) Categorical variables"
      ]
    },
    {
      "cell_type": "code",
      "execution_count": 195,
      "id": "f5e943b1",
      "metadata": {
        "colab": {
          "base_uri": "https://localhost:8080/",
          "height": 288
        },
        "id": "f5e943b1",
        "outputId": "38b19623-bbd8-4215-a07a-299b532a8f1b"
      },
      "outputs": [
        {
          "output_type": "display_data",
          "data": {
            "text/plain": [
              "<Figure size 432x288 with 1 Axes>"
            ],
            "image/png": "[encoded data removed]"
          },
          "metadata": {}
        }
      ],
      "source": [
        "#Countplot\n",
        "sns.countplot(x = X.sex)\n",
        "plt.show()"
      ]
    },
    {
      "cell_type": "code",
      "execution_count": 196,
      "id": "33f05306",
      "metadata": {
        "colab": {
          "base_uri": "https://localhost:8080/",
          "height": 444
        },
        "id": "33f05306",
        "outputId": "6a21fb38-5525-4be9-d904-f69304b5cc4d"
      },
      "outputs": [
        {
          "output_type": "display_data",
          "data": {
            "text/plain": [
              "<Figure size 1440x504 with 1 Axes>"
            ],
            "image/png": "[encoded data removed]"
          },
          "metadata": {}
        }
      ],
      "source": [
        "#BoxPlot\n",
        "plt.figure(figsize=(20,7))\n",
        "sns.boxplot(data = data, x='sex', y='age')\n",
        "plt.show()"
      ]
    },
    {
      "cell_type": "markdown",
      "id": "615fc597",
      "metadata": {
        "id": "615fc597"
      },
      "source": [
        "Observation:\n",
        "\n",
        " - Label I(infant) has relatively low maximum age(<25) which is obvious.<br>\n",
        " - The oldest abalone is a female"
      ]
    },
    {
      "cell_type": "markdown",
      "id": "ef74f6c4",
      "metadata": {
        "id": "ef74f6c4"
      },
      "source": [
        "### 3d. Bivariate analysis"
      ]
    },
    {
      "cell_type": "code",
      "execution_count": 197,
      "id": "b3602ca9",
      "metadata": {
        "colab": {
          "base_uri": "https://localhost:8080/",
          "height": 346
        },
        "id": "b3602ca9",
        "outputId": "abf1341a-d3e5-4b4c-81af-27b97b2c716e"
      },
      "outputs": [
        {
          "output_type": "display_data",
          "data": {
            "text/plain": [
              "<Figure size 720x288 with 1 Axes>"
            ],
            "image/png": "[encoded data removed]"
          },
          "metadata": {}
        }
      ],
      "source": [
        "##Correlation with each other\n",
        "plt.figure(figsize=(10,4)) #Correlation\n",
        "sns.heatmap(data.corr(method='pearson'), annot=True, cbar=False, cmap='Blues')\n",
        "plt.show()"
      ]
    },
    {
      "cell_type": "markdown",
      "id": "15c3b2ab",
      "metadata": {
        "id": "15c3b2ab"
      },
      "source": [
        "Observation:\n",
        "\n",
        " - MultiCollinearity exists among variables<br>\n",
        " - (diameter, length)  highly correlated"
      ]
    },
    {
      "cell_type": "markdown",
      "id": "61f33270",
      "metadata": {
        "id": "61f33270"
      },
      "source": [
        "# 4. Feature engineering"
      ]
    },
    {
      "cell_type": "markdown",
      "id": "8ea12519",
      "metadata": {
        "id": "8ea12519"
      },
      "source": [
        "### 4a. Handling Categorical variable\n",
        "\n",
        "- One hot encoding"
      ]
    },
    {
      "cell_type": "code",
      "source": [
        "X = pd.get_dummies(X, drop_first=True)\n",
        "X.head(3)"
      ],
      "metadata": {
        "colab": {
          "base_uri": "https://localhost:8080/",
          "height": 143
        },
        "id": "cC9Jm7lP-QMO",
        "outputId": "1f1f3251-ca5e-483f-b935-d1d6cf638afe"
      },
      "id": "cC9Jm7lP-QMO",
      "execution_count": 198,
      "outputs": [
        {
          "output_type": "execute_result",
          "data": {
            "text/plain": [
              "   length  diameter  height  whole_weight  shucked_weight  viscera_weight  \\\n",
              "0   0.455     0.365   0.095        0.5140          0.2245          0.1010   \n",
              "1   0.350     0.265   0.090        0.2255          0.0995          0.0485   \n",
              "2   0.530     0.420   0.135        0.6770          0.2565          0.1415   \n",
              "\n",
              "   shell_weight  sex_I  sex_M  \n",
              "0          0.15      0      1  \n",
              "1          0.07      0      1  \n",
              "2          0.21      0      0  "
            ],
            "text/html": [
              "\n",
              "  <div id=\"df-c36032bd-b7af-4205-8fea-df25ef58f089\">\n",
              "    <div class=\"colab-df-container\">\n",
              "      <div>\n",
              "<style scoped>\n",
              "    .dataframe tbody tr th:only-of-type {\n",
              "        vertical-align: middle;\n",
              "    }\n",
              "\n",
              "    .dataframe tbody tr th {\n",
              "        vertical-align: top;\n",
              "    }\n",
              "\n",
              "    .dataframe thead th {\n",
              "        text-align: right;\n",
              "    }\n",
              "</style>\n",
              "<table border=\"1\" class=\"dataframe\">\n",
              "  <thead>\n",
              "    <tr style=\"text-align: right;\">\n",
              "      <th></th>\n",
              "      <th>length</th>\n",
              "      <th>diameter</th>\n",
              "      <th>height</th>\n",
              "      <th>whole_weight</th>\n",
              "      <th>shucked_weight</th>\n",
              "      <th>viscera_weight</th>\n",
              "      <th>shell_weight</th>\n",
              "      <th>sex_I</th>\n",
              "      <th>sex_M</th>\n",
              "    </tr>\n",
              "  </thead>\n",
              "  <tbody>\n",
              "    <tr>\n",
              "      <th>0</th>\n",
              "      <td>0.455</td>\n",
              "      <td>0.365</td>\n",
              "      <td>0.095</td>\n",
              "      <td>0.5140</td>\n",
              "      <td>0.2245</td>\n",
              "      <td>0.1010</td>\n",
              "      <td>0.15</td>\n",
              "      <td>0</td>\n",
              "      <td>1</td>\n",
              "    </tr>\n",
              "    <tr>\n",
              "      <th>1</th>\n",
              "      <td>0.350</td>\n",
              "      <td>0.265</td>\n",
              "      <td>0.090</td>\n",
              "      <td>0.2255</td>\n",
              "      <td>0.0995</td>\n",
              "      <td>0.0485</td>\n",
              "      <td>0.07</td>\n",
              "      <td>0</td>\n",
              "      <td>1</td>\n",
              "    </tr>\n",
              "    <tr>\n",
              "      <th>2</th>\n",
              "      <td>0.530</td>\n",
              "      <td>0.420</td>\n",
              "      <td>0.135</td>\n",
              "      <td>0.6770</td>\n",
              "      <td>0.2565</td>\n",
              "      <td>0.1415</td>\n",
              "      <td>0.21</td>\n",
              "      <td>0</td>\n",
              "      <td>0</td>\n",
              "    </tr>\n",
              "  </tbody>\n",
              "</table>\n",
              "</div>\n",
              "      <button class=\"colab-df-convert\" onclick=\"convertToInteractive('df-c36032bd-b7af-4205-8fea-df25ef58f089')\"\n",
              "              title=\"Convert this dataframe to an interactive table.\"\n",
              "              style=\"display:none;\">\n",
              "        \n",
              "  <svg xmlns=\"http://www.w3.org/2000/svg\" height=\"24px\"viewBox=\"0 0 24 24\"\n",
              "       width=\"24px\">\n",
              "    <path d=\"M0 0h24v24H0V0z\" fill=\"none\"/>\n",
              "    <path d=\"M18.56 5.44l.94 2.06.94-2.06 2.06-.94-2.06-.94-.94-2.06-.94 2.06-2.06.94zm-11 1L8.5 8.5l.94-2.06 2.06-.94-2.06-.94L8.5 2.5l-.94 2.06-2.06.94zm10 10l.94 2.06.94-2.06 2.06-.94-2.06-.94-.94-2.06-.94 2.06-2.06.94z\"/><path d=\"M17.41 7.96l-1.37-1.37c-.4-.4-.92-.59-1.43-.59-.52 0-1.04.2-1.43.59L10.3 9.45l-7.72 7.72c-.78.78-.78 2.05 0 2.83L4 21.41c.39.39.9.59 1.41.59.51 0 1.02-.2 1.41-.59l7.78-7.78 2.81-2.81c.8-.78.8-2.07 0-2.86zM5.41 20L4 18.59l7.72-7.72 1.47 1.35L5.41 20z\"/>\n",
              "  </svg>\n",
              "      </button>\n",
              "      \n",
              "  <style>\n",
              "    .colab-df-container {\n",
              "      display:flex;\n",
              "      flex-wrap:wrap;\n",
              "      gap: 12px;\n",
              "    }\n",
              "\n",
              "    .colab-df-convert {\n",
              "      background-color: #E8F0FE;\n",
              "      border: none;\n",
              "      border-radius: 50%;\n",
              "      cursor: pointer;\n",
              "      display: none;\n",
              "      fill: #1967D2;\n",
              "      height: 32px;\n",
              "      padding: 0 0 0 0;\n",
              "      width: 32px;\n",
              "    }\n",
              "\n",
              "    .colab-df-convert:hover {\n",
              "      background-color: #E2EBFA;\n",
              "      box-shadow: 0px 1px 2px rgba(60, 64, 67, 0.3), 0px 1px 3px 1px rgba(60, 64, 67, 0.15);\n",
              "      fill: #174EA6;\n",
              "    }\n",
              "\n",
              "    [theme=dark] .colab-df-convert {\n",
              "      background-color: #3B4455;\n",
              "      fill: #D2E3FC;\n",
              "    }\n",
              "\n",
              "    [theme=dark] .colab-df-convert:hover {\n",
              "      background-color: #434B5C;\n",
              "      box-shadow: 0px 1px 3px 1px rgba(0, 0, 0, 0.15);\n",
              "      filter: drop-shadow(0px 1px 2px rgba(0, 0, 0, 0.3));\n",
              "      fill: #FFFFFF;\n",
              "    }\n",
              "  </style>\n",
              "\n",
              "      <script>\n",
              "        const buttonEl =\n",
              "          document.querySelector('#df-c36032bd-b7af-4205-8fea-df25ef58f089 button.colab-df-convert');\n",
              "        buttonEl.style.display =\n",
              "          google.colab.kernel.accessAllowed ? 'block' : 'none';\n",
              "\n",
              "        async function convertToInteractive(key) {\n",
              "          const element = document.querySelector('#df-c36032bd-b7af-4205-8fea-df25ef58f089');\n",
              "          const dataTable =\n",
              "            await google.colab.kernel.invokeFunction('convertToInteractive',\n",
              "                                                     [key], {});\n",
              "          if (!dataTable) return;\n",
              "\n",
              "          const docLinkHtml = 'Like what you see? Visit the ' +\n",
              "            '<a target=\"_blank\" href=https://colab.research.google.com/notebooks/data_table.ipynb>data table notebook</a>'\n",
              "            + ' to learn more about interactive tables.';\n",
              "          element.innerHTML = '';\n",
              "          dataTable['output_type'] = 'display_data';\n",
              "          await google.colab.output.renderOutput(dataTable, element);\n",
              "          const docLink = document.createElement('div');\n",
              "          docLink.innerHTML = docLinkHtml;\n",
              "          element.appendChild(docLink);\n",
              "        }\n",
              "      </script>\n",
              "    </div>\n",
              "  </div>\n",
              "  "
            ]
          },
          "metadata": {},
          "execution_count": 198
        }
      ]
    },
    {
      "cell_type": "markdown",
      "id": "38aa0b83",
      "metadata": {
        "id": "38aa0b83"
      },
      "source": [
        "### // Data Splitting\n",
        "- Train\n",
        "- Cross-validation\n",
        "- Test"
      ]
    },
    {
      "cell_type": "code",
      "execution_count": 199,
      "id": "d567202f",
      "metadata": {
        "colab": {
          "base_uri": "https://localhost:8080/"
        },
        "id": "d567202f",
        "outputId": "0462ce47-a092-4b12-e476-1854334d8741"
      },
      "outputs": [
        {
          "output_type": "stream",
          "name": "stdout",
          "text": [
            "No of data points in train set: 2672\n",
            "No of data points in cross-validation set: 669\n",
            "No of data points in test set: 836\n"
          ]
        }
      ],
      "source": [
        "X_train, X_test, y_train, y_test = train_test_split(X, y, test_size=0.20, random_state=42)\n",
        "\n",
        "X_train, X_cv, y_train, y_cv = train_test_split(X_train, y_train, test_size=0.20, random_state=42)\n",
        "\n",
        "print(\"No of data points in train set:\",X_train.shape[0])\n",
        "print(\"No of data points in cross-validation set:\",X_cv.shape[0])\n",
        "print(\"No of data points in test set:\",X_test.shape[0])"
      ]
    },
    {
      "cell_type": "markdown",
      "id": "9e36b784",
      "metadata": {
        "id": "9e36b784"
      },
      "source": [
        "# 5. Machine Learning\n"
      ]
    },
    {
      "cell_type": "markdown",
      "id": "92ff1a91",
      "metadata": {
        "id": "92ff1a91"
      },
      "source": [
        "### 5a. Linear model\n",
        "- Linear regression"
      ]
    },
    {
      "cell_type": "code",
      "execution_count": 200,
      "id": "884fb866",
      "metadata": {
        "colab": {
          "base_uri": "https://localhost:8080/"
        },
        "id": "884fb866",
        "outputId": "78340a5f-c3ec-4409-aa6e-9a4b294f714e"
      },
      "outputs": [
        {
          "output_type": "stream",
          "name": "stdout",
          "text": [
            "train error 2.1751554137317206\n",
            "cv error 2.3554995969359\n",
            "test error 2.2204593120587686\n"
          ]
        }
      ],
      "source": [
        "tr_err, cv_err, test_err = evaluate(LinearRegression(), X_train, X_cv, X_test, y_train, y_cv, y_test)\n",
        "\n",
        "model = LinearRegression()\n",
        "\n",
        "model.fit(X_train, y_train)\n",
        "y_pr = model.predict(X_test)\n",
        "\n",
        "print(\"train error\",tr_err)\n",
        "print(\"cv error\", cv_err)\n",
        "print(\"test error\", test_err)"
      ]
    },
    {
      "cell_type": "markdown",
      "id": "01cb4e41",
      "metadata": {
        "id": "01cb4e41"
      },
      "source": [
        "### 5b. Non-Linear models"
      ]
    },
    {
      "cell_type": "code",
      "execution_count": 201,
      "id": "73a97d06",
      "metadata": {
        "id": "73a97d06"
      },
      "outputs": [],
      "source": [
        "non_linear_models ={'KNeighborsRegressor':KNeighborsRegressor(),\n",
        "         'DecisionTreeRegressor':DecisionTreeRegressor(random_state=0),\n",
        "         'RandomForestRegressor':RandomForestRegressor(random_state=0)\n",
        "        }"
      ]
    },
    {
      "cell_type": "code",
      "execution_count": 202,
      "id": "cab958d2",
      "metadata": {
        "colab": {
          "base_uri": "https://localhost:8080/",
          "height": 143
        },
        "id": "cab958d2",
        "outputId": "a74e8931-adce-4e6e-c6dd-7643a9bfe3ca"
      },
      "outputs": [
        {
          "output_type": "execute_result",
          "data": {
            "text/plain": [
              "                   Model  Train Error  CV Error  Test Error\n",
              "2  RandomForestRegressor     0.815675  2.151857    2.240103\n",
              "0    KNeighborsRegressor     1.825095  2.227012    2.262995\n",
              "1  DecisionTreeRegressor     0.000000  2.900183    3.061569"
            ],
            "text/html": [
              "\n",
              "  <div id=\"df-9ca86c0b-4ca0-487d-b5df-de576cc2c7e7\">\n",
              "    <div class=\"colab-df-container\">\n",
              "      <div>\n",
              "<style scoped>\n",
              "    .dataframe tbody tr th:only-of-type {\n",
              "        vertical-align: middle;\n",
              "    }\n",
              "\n",
              "    .dataframe tbody tr th {\n",
              "        vertical-align: top;\n",
              "    }\n",
              "\n",
              "    .dataframe thead th {\n",
              "        text-align: right;\n",
              "    }\n",
              "</style>\n",
              "<table border=\"1\" class=\"dataframe\">\n",
              "  <thead>\n",
              "    <tr style=\"text-align: right;\">\n",
              "      <th></th>\n",
              "      <th>Model</th>\n",
              "      <th>Train Error</th>\n",
              "      <th>CV Error</th>\n",
              "      <th>Test Error</th>\n",
              "    </tr>\n",
              "  </thead>\n",
              "  <tbody>\n",
              "    <tr>\n",
              "      <th>2</th>\n",
              "      <td>RandomForestRegressor</td>\n",
              "      <td>0.815675</td>\n",
              "      <td>2.151857</td>\n",
              "      <td>2.240103</td>\n",
              "    </tr>\n",
              "    <tr>\n",
              "      <th>0</th>\n",
              "      <td>KNeighborsRegressor</td>\n",
              "      <td>1.825095</td>\n",
              "      <td>2.227012</td>\n",
              "      <td>2.262995</td>\n",
              "    </tr>\n",
              "    <tr>\n",
              "      <th>1</th>\n",
              "      <td>DecisionTreeRegressor</td>\n",
              "      <td>0.000000</td>\n",
              "      <td>2.900183</td>\n",
              "      <td>3.061569</td>\n",
              "    </tr>\n",
              "  </tbody>\n",
              "</table>\n",
              "</div>\n",
              "      <button class=\"colab-df-convert\" onclick=\"convertToInteractive('df-9ca86c0b-4ca0-487d-b5df-de576cc2c7e7')\"\n",
              "              title=\"Convert this dataframe to an interactive table.\"\n",
              "              style=\"display:none;\">\n",
              "        \n",
              "  <svg xmlns=\"http://www.w3.org/2000/svg\" height=\"24px\"viewBox=\"0 0 24 24\"\n",
              "       width=\"24px\">\n",
              "    <path d=\"M0 0h24v24H0V0z\" fill=\"none\"/>\n",
              "    <path d=\"M18.56 5.44l.94 2.06.94-2.06 2.06-.94-2.06-.94-.94-2.06-.94 2.06-2.06.94zm-11 1L8.5 8.5l.94-2.06 2.06-.94-2.06-.94L8.5 2.5l-.94 2.06-2.06.94zm10 10l.94 2.06.94-2.06 2.06-.94-2.06-.94-.94-2.06-.94 2.06-2.06.94z\"/><path d=\"M17.41 7.96l-1.37-1.37c-.4-.4-.92-.59-1.43-.59-.52 0-1.04.2-1.43.59L10.3 9.45l-7.72 7.72c-.78.78-.78 2.05 0 2.83L4 21.41c.39.39.9.59 1.41.59.51 0 1.02-.2 1.41-.59l7.78-7.78 2.81-2.81c.8-.78.8-2.07 0-2.86zM5.41 20L4 18.59l7.72-7.72 1.47 1.35L5.41 20z\"/>\n",
              "  </svg>\n",
              "      </button>\n",
              "      \n",
              "  <style>\n",
              "    .colab-df-container {\n",
              "      display:flex;\n",
              "      flex-wrap:wrap;\n",
              "      gap: 12px;\n",
              "    }\n",
              "\n",
              "    .colab-df-convert {\n",
              "      background-color: #E8F0FE;\n",
              "      border: none;\n",
              "      border-radius: 50%;\n",
              "      cursor: pointer;\n",
              "      display: none;\n",
              "      fill: #1967D2;\n",
              "      height: 32px;\n",
              "      padding: 0 0 0 0;\n",
              "      width: 32px;\n",
              "    }\n",
              "\n",
              "    .colab-df-convert:hover {\n",
              "      background-color: #E2EBFA;\n",
              "      box-shadow: 0px 1px 2px rgba(60, 64, 67, 0.3), 0px 1px 3px 1px rgba(60, 64, 67, 0.15);\n",
              "      fill: #174EA6;\n",
              "    }\n",
              "\n",
              "    [theme=dark] .colab-df-convert {\n",
              "      background-color: #3B4455;\n",
              "      fill: #D2E3FC;\n",
              "    }\n",
              "\n",
              "    [theme=dark] .colab-df-convert:hover {\n",
              "      background-color: #434B5C;\n",
              "      box-shadow: 0px 1px 3px 1px rgba(0, 0, 0, 0.15);\n",
              "      filter: drop-shadow(0px 1px 2px rgba(0, 0, 0, 0.3));\n",
              "      fill: #FFFFFF;\n",
              "    }\n",
              "  </style>\n",
              "\n",
              "      <script>\n",
              "        const buttonEl =\n",
              "          document.querySelector('#df-9ca86c0b-4ca0-487d-b5df-de576cc2c7e7 button.colab-df-convert');\n",
              "        buttonEl.style.display =\n",
              "          google.colab.kernel.accessAllowed ? 'block' : 'none';\n",
              "\n",
              "        async function convertToInteractive(key) {\n",
              "          const element = document.querySelector('#df-9ca86c0b-4ca0-487d-b5df-de576cc2c7e7');\n",
              "          const dataTable =\n",
              "            await google.colab.kernel.invokeFunction('convertToInteractive',\n",
              "                                                     [key], {});\n",
              "          if (!dataTable) return;\n",
              "\n",
              "          const docLinkHtml = 'Like what you see? Visit the ' +\n",
              "            '<a target=\"_blank\" href=https://colab.research.google.com/notebooks/data_table.ipynb>data table notebook</a>'\n",
              "            + ' to learn more about interactive tables.';\n",
              "          element.innerHTML = '';\n",
              "          dataTable['output_type'] = 'display_data';\n",
              "          await google.colab.output.renderOutput(dataTable, element);\n",
              "          const docLink = document.createElement('div');\n",
              "          docLink.innerHTML = docLinkHtml;\n",
              "          element.appendChild(docLink);\n",
              "        }\n",
              "      </script>\n",
              "    </div>\n",
              "  </div>\n",
              "  "
            ]
          },
          "metadata": {},
          "execution_count": 202
        }
      ],
      "source": [
        "df3 = []\n",
        "\n",
        "for name, model in non_linear_models.items():\n",
        "    train_error, cv_error, test_error = evaluate(model, X_train, X_cv, X_test, y_train, y_cv, y_test)\n",
        "    \n",
        "    df3.append([name, train_error, cv_error, test_error])\n",
        "\n",
        "df3 = pd.DataFrame(df3, columns=['Model', 'Train Error', 'CV Error', 'Test Error']).sort_values('Test Error')\n",
        "df3"
      ]
    },
    {
      "cell_type": "code",
      "execution_count": 203,
      "id": "e94bc3b2",
      "metadata": {
        "id": "e94bc3b2"
      },
      "outputs": [],
      "source": [
        "#Hyperparameter tuning\n",
        "models_params2 ={'KNeighborsRegressor':{'n_neighbors':[3,5,11,19],\n",
        "                                        'metric':['euclidean', 'manhattan']\n",
        "                                       },\n",
        "                 \n",
        "                \n",
        "                'DecisionTreeRegressor':{\"max_depth\": [3,2, None],\n",
        "                                         \"max_features\": np.random.randint(1, 9, 4),\n",
        "                                         \"min_samples_leaf\": np.random.randint(1, 9,4),\n",
        "                                        },\n",
        "                 \n",
        "                 \n",
        "\n",
        "                'RandomForestRegressor':{'max_depth': [3,5,None],\n",
        "                                         'max_features': np.random.randint(1, 10,5),\n",
        "                                         'min_samples_leaf': np.random.randint(1, 10,5),\n",
        "                                         'min_samples_split': [2, 5, 10],\n",
        "                                         'n_estimators': [10,20,30,40,50,100,200]\n",
        "                                        }\n",
        "                }"
      ]
    },
    {
      "cell_type": "code",
      "execution_count": 204,
      "id": "af3f8959",
      "metadata": {
        "colab": {
          "base_uri": "https://localhost:8080/",
          "height": 300
        },
        "id": "af3f8959",
        "outputId": "04167787-1c13-4586-ef00-a5aa26ac64b8"
      },
      "outputs": [
        {
          "output_type": "stream",
          "name": "stdout",
          "text": [
            "KNeighborsRegressor\n",
            "Best params : {'n_neighbors': 11, 'metric': 'euclidean'}\n",
            "\n",
            "DecisionTreeRegressor\n",
            "Best params : {'min_samples_leaf': 3, 'max_features': 3, 'max_depth': 3}\n",
            "\n",
            "RandomForestRegressor\n",
            "Best params : {'n_estimators': 40, 'min_samples_split': 2, 'min_samples_leaf': 8, 'max_features': 6, 'max_depth': None}\n",
            "\n"
          ]
        },
        {
          "output_type": "execute_result",
          "data": {
            "text/plain": [
              "                        Model  Train Error  CV Error  Test Error\n",
              "2  best RandomForestRegressor     1.717089  2.122497    2.217735\n",
              "0    best KNeighborsRegressor     1.998627  2.161156    2.209284\n",
              "1  best DecisionTreeRegressor     2.459270  2.417138    2.622243"
            ],
            "text/html": [
              "\n",
              "  <div id=\"df-428f93ef-f8af-4ddb-9845-b76a71c2ba49\">\n",
              "    <div class=\"colab-df-container\">\n",
              "      <div>\n",
              "<style scoped>\n",
              "    .dataframe tbody tr th:only-of-type {\n",
              "        vertical-align: middle;\n",
              "    }\n",
              "\n",
              "    .dataframe tbody tr th {\n",
              "        vertical-align: top;\n",
              "    }\n",
              "\n",
              "    .dataframe thead th {\n",
              "        text-align: right;\n",
              "    }\n",
              "</style>\n",
              "<table border=\"1\" class=\"dataframe\">\n",
              "  <thead>\n",
              "    <tr style=\"text-align: right;\">\n",
              "      <th></th>\n",
              "      <th>Model</th>\n",
              "      <th>Train Error</th>\n",
              "      <th>CV Error</th>\n",
              "      <th>Test Error</th>\n",
              "    </tr>\n",
              "  </thead>\n",
              "  <tbody>\n",
              "    <tr>\n",
              "      <th>2</th>\n",
              "      <td>best RandomForestRegressor</td>\n",
              "      <td>1.717089</td>\n",
              "      <td>2.122497</td>\n",
              "      <td>2.217735</td>\n",
              "    </tr>\n",
              "    <tr>\n",
              "      <th>0</th>\n",
              "      <td>best KNeighborsRegressor</td>\n",
              "      <td>1.998627</td>\n",
              "      <td>2.161156</td>\n",
              "      <td>2.209284</td>\n",
              "    </tr>\n",
              "    <tr>\n",
              "      <th>1</th>\n",
              "      <td>best DecisionTreeRegressor</td>\n",
              "      <td>2.459270</td>\n",
              "      <td>2.417138</td>\n",
              "      <td>2.622243</td>\n",
              "    </tr>\n",
              "  </tbody>\n",
              "</table>\n",
              "</div>\n",
              "      <button class=\"colab-df-convert\" onclick=\"convertToInteractive('df-428f93ef-f8af-4ddb-9845-b76a71c2ba49')\"\n",
              "              title=\"Convert this dataframe to an interactive table.\"\n",
              "              style=\"display:none;\">\n",
              "        \n",
              "  <svg xmlns=\"http://www.w3.org/2000/svg\" height=\"24px\"viewBox=\"0 0 24 24\"\n",
              "       width=\"24px\">\n",
              "    <path d=\"M0 0h24v24H0V0z\" fill=\"none\"/>\n",
              "    <path d=\"M18.56 5.44l.94 2.06.94-2.06 2.06-.94-2.06-.94-.94-2.06-.94 2.06-2.06.94zm-11 1L8.5 8.5l.94-2.06 2.06-.94-2.06-.94L8.5 2.5l-.94 2.06-2.06.94zm10 10l.94 2.06.94-2.06 2.06-.94-2.06-.94-.94-2.06-.94 2.06-2.06.94z\"/><path d=\"M17.41 7.96l-1.37-1.37c-.4-.4-.92-.59-1.43-.59-.52 0-1.04.2-1.43.59L10.3 9.45l-7.72 7.72c-.78.78-.78 2.05 0 2.83L4 21.41c.39.39.9.59 1.41.59.51 0 1.02-.2 1.41-.59l7.78-7.78 2.81-2.81c.8-.78.8-2.07 0-2.86zM5.41 20L4 18.59l7.72-7.72 1.47 1.35L5.41 20z\"/>\n",
              "  </svg>\n",
              "      </button>\n",
              "      \n",
              "  <style>\n",
              "    .colab-df-container {\n",
              "      display:flex;\n",
              "      flex-wrap:wrap;\n",
              "      gap: 12px;\n",
              "    }\n",
              "\n",
              "    .colab-df-convert {\n",
              "      background-color: #E8F0FE;\n",
              "      border: none;\n",
              "      border-radius: 50%;\n",
              "      cursor: pointer;\n",
              "      display: none;\n",
              "      fill: #1967D2;\n",
              "      height: 32px;\n",
              "      padding: 0 0 0 0;\n",
              "      width: 32px;\n",
              "    }\n",
              "\n",
              "    .colab-df-convert:hover {\n",
              "      background-color: #E2EBFA;\n",
              "      box-shadow: 0px 1px 2px rgba(60, 64, 67, 0.3), 0px 1px 3px 1px rgba(60, 64, 67, 0.15);\n",
              "      fill: #174EA6;\n",
              "    }\n",
              "\n",
              "    [theme=dark] .colab-df-convert {\n",
              "      background-color: #3B4455;\n",
              "      fill: #D2E3FC;\n",
              "    }\n",
              "\n",
              "    [theme=dark] .colab-df-convert:hover {\n",
              "      background-color: #434B5C;\n",
              "      box-shadow: 0px 1px 3px 1px rgba(0, 0, 0, 0.15);\n",
              "      filter: drop-shadow(0px 1px 2px rgba(0, 0, 0, 0.3));\n",
              "      fill: #FFFFFF;\n",
              "    }\n",
              "  </style>\n",
              "\n",
              "      <script>\n",
              "        const buttonEl =\n",
              "          document.querySelector('#df-428f93ef-f8af-4ddb-9845-b76a71c2ba49 button.colab-df-convert');\n",
              "        buttonEl.style.display =\n",
              "          google.colab.kernel.accessAllowed ? 'block' : 'none';\n",
              "\n",
              "        async function convertToInteractive(key) {\n",
              "          const element = document.querySelector('#df-428f93ef-f8af-4ddb-9845-b76a71c2ba49');\n",
              "          const dataTable =\n",
              "            await google.colab.kernel.invokeFunction('convertToInteractive',\n",
              "                                                     [key], {});\n",
              "          if (!dataTable) return;\n",
              "\n",
              "          const docLinkHtml = 'Like what you see? Visit the ' +\n",
              "            '<a target=\"_blank\" href=https://colab.research.google.com/notebooks/data_table.ipynb>data table notebook</a>'\n",
              "            + ' to learn more about interactive tables.';\n",
              "          element.innerHTML = '';\n",
              "          dataTable['output_type'] = 'display_data';\n",
              "          await google.colab.output.renderOutput(dataTable, element);\n",
              "          const docLink = document.createElement('div');\n",
              "          docLink.innerHTML = docLinkHtml;\n",
              "          element.appendChild(docLink);\n",
              "        }\n",
              "      </script>\n",
              "    </div>\n",
              "  </div>\n",
              "  "
            ]
          },
          "metadata": {},
          "execution_count": 204
        }
      ],
      "source": [
        "df4 = []\n",
        "for model_name in non_linear_models.keys():\n",
        "    print(model_name)\n",
        "    model = non_linear_models[model_name]\n",
        "    params = models_params2[model_name]\n",
        "    regressor = RandomizedSearchCV(estimator = model,\n",
        "                                   n_iter=10,\n",
        "                                   param_distributions = params,\n",
        "                                   cv = 3,\n",
        "                                   scoring = 'neg_root_mean_squared_error',\n",
        "                                   n_jobs=-1)\n",
        "    \n",
        "    search = regressor.fit(X_train, y_train)\n",
        "    model = search.best_estimator_\n",
        "    \n",
        "    train_error, cv_error, test_error = evaluate(model, X_train, X_cv, X_test, y_train, y_cv, y_test)\n",
        "    \n",
        "    df4.append(['best '+model_name, train_error, cv_error, test_error])\n",
        "    \n",
        "    print('Best params :',search.best_params_)\n",
        "    print()\n",
        "df4 = pd.DataFrame(df4, columns=['Model', 'Train Error', 'CV Error', 'Test Error']).sort_values('CV Error')    \n",
        "df4"
      ]
    },
    {
      "cell_type": "code",
      "execution_count": 205,
      "id": "2130f033",
      "metadata": {
        "colab": {
          "base_uri": "https://localhost:8080/",
          "height": 237
        },
        "id": "2130f033",
        "outputId": "bb5fbfc6-30cf-4c1c-c14b-fef982aef23d"
      },
      "outputs": [
        {
          "output_type": "execute_result",
          "data": {
            "text/plain": [
              "                        Model  Train Error  CV Error  Test Error\n",
              "2  best RandomForestRegressor     1.717089  2.122497    2.217735\n",
              "2       RandomForestRegressor     0.815675  2.151857    2.240103\n",
              "0    best KNeighborsRegressor     1.998627  2.161156    2.209284\n",
              "0         KNeighborsRegressor     1.825095  2.227012    2.262995\n",
              "1  best DecisionTreeRegressor     2.459270  2.417138    2.622243\n",
              "1       DecisionTreeRegressor     0.000000  2.900183    3.061569"
            ],
            "text/html": [
              "\n",
              "  <div id=\"df-a8a05ce2-3aea-47ef-8f80-620cef1fae80\">\n",
              "    <div class=\"colab-df-container\">\n",
              "      <div>\n",
              "<style scoped>\n",
              "    .dataframe tbody tr th:only-of-type {\n",
              "        vertical-align: middle;\n",
              "    }\n",
              "\n",
              "    .dataframe tbody tr th {\n",
              "        vertical-align: top;\n",
              "    }\n",
              "\n",
              "    .dataframe thead th {\n",
              "        text-align: right;\n",
              "    }\n",
              "</style>\n",
              "<table border=\"1\" class=\"dataframe\">\n",
              "  <thead>\n",
              "    <tr style=\"text-align: right;\">\n",
              "      <th></th>\n",
              "      <th>Model</th>\n",
              "      <th>Train Error</th>\n",
              "      <th>CV Error</th>\n",
              "      <th>Test Error</th>\n",
              "    </tr>\n",
              "  </thead>\n",
              "  <tbody>\n",
              "    <tr>\n",
              "      <th>2</th>\n",
              "      <td>best RandomForestRegressor</td>\n",
              "      <td>1.717089</td>\n",
              "      <td>2.122497</td>\n",
              "      <td>2.217735</td>\n",
              "    </tr>\n",
              "    <tr>\n",
              "      <th>2</th>\n",
              "      <td>RandomForestRegressor</td>\n",
              "      <td>0.815675</td>\n",
              "      <td>2.151857</td>\n",
              "      <td>2.240103</td>\n",
              "    </tr>\n",
              "    <tr>\n",
              "      <th>0</th>\n",
              "      <td>best KNeighborsRegressor</td>\n",
              "      <td>1.998627</td>\n",
              "      <td>2.161156</td>\n",
              "      <td>2.209284</td>\n",
              "    </tr>\n",
              "    <tr>\n",
              "      <th>0</th>\n",
              "      <td>KNeighborsRegressor</td>\n",
              "      <td>1.825095</td>\n",
              "      <td>2.227012</td>\n",
              "      <td>2.262995</td>\n",
              "    </tr>\n",
              "    <tr>\n",
              "      <th>1</th>\n",
              "      <td>best DecisionTreeRegressor</td>\n",
              "      <td>2.459270</td>\n",
              "      <td>2.417138</td>\n",
              "      <td>2.622243</td>\n",
              "    </tr>\n",
              "    <tr>\n",
              "      <th>1</th>\n",
              "      <td>DecisionTreeRegressor</td>\n",
              "      <td>0.000000</td>\n",
              "      <td>2.900183</td>\n",
              "      <td>3.061569</td>\n",
              "    </tr>\n",
              "  </tbody>\n",
              "</table>\n",
              "</div>\n",
              "      <button class=\"colab-df-convert\" onclick=\"convertToInteractive('df-a8a05ce2-3aea-47ef-8f80-620cef1fae80')\"\n",
              "              title=\"Convert this dataframe to an interactive table.\"\n",
              "              style=\"display:none;\">\n",
              "        \n",
              "  <svg xmlns=\"http://www.w3.org/2000/svg\" height=\"24px\"viewBox=\"0 0 24 24\"\n",
              "       width=\"24px\">\n",
              "    <path d=\"M0 0h24v24H0V0z\" fill=\"none\"/>\n",
              "    <path d=\"M18.56 5.44l.94 2.06.94-2.06 2.06-.94-2.06-.94-.94-2.06-.94 2.06-2.06.94zm-11 1L8.5 8.5l.94-2.06 2.06-.94-2.06-.94L8.5 2.5l-.94 2.06-2.06.94zm10 10l.94 2.06.94-2.06 2.06-.94-2.06-.94-.94-2.06-.94 2.06-2.06.94z\"/><path d=\"M17.41 7.96l-1.37-1.37c-.4-.4-.92-.59-1.43-.59-.52 0-1.04.2-1.43.59L10.3 9.45l-7.72 7.72c-.78.78-.78 2.05 0 2.83L4 21.41c.39.39.9.59 1.41.59.51 0 1.02-.2 1.41-.59l7.78-7.78 2.81-2.81c.8-.78.8-2.07 0-2.86zM5.41 20L4 18.59l7.72-7.72 1.47 1.35L5.41 20z\"/>\n",
              "  </svg>\n",
              "      </button>\n",
              "      \n",
              "  <style>\n",
              "    .colab-df-container {\n",
              "      display:flex;\n",
              "      flex-wrap:wrap;\n",
              "      gap: 12px;\n",
              "    }\n",
              "\n",
              "    .colab-df-convert {\n",
              "      background-color: #E8F0FE;\n",
              "      border: none;\n",
              "      border-radius: 50%;\n",
              "      cursor: pointer;\n",
              "      display: none;\n",
              "      fill: #1967D2;\n",
              "      height: 32px;\n",
              "      padding: 0 0 0 0;\n",
              "      width: 32px;\n",
              "    }\n",
              "\n",
              "    .colab-df-convert:hover {\n",
              "      background-color: #E2EBFA;\n",
              "      box-shadow: 0px 1px 2px rgba(60, 64, 67, 0.3), 0px 1px 3px 1px rgba(60, 64, 67, 0.15);\n",
              "      fill: #174EA6;\n",
              "    }\n",
              "\n",
              "    [theme=dark] .colab-df-convert {\n",
              "      background-color: #3B4455;\n",
              "      fill: #D2E3FC;\n",
              "    }\n",
              "\n",
              "    [theme=dark] .colab-df-convert:hover {\n",
              "      background-color: #434B5C;\n",
              "      box-shadow: 0px 1px 3px 1px rgba(0, 0, 0, 0.15);\n",
              "      filter: drop-shadow(0px 1px 2px rgba(0, 0, 0, 0.3));\n",
              "      fill: #FFFFFF;\n",
              "    }\n",
              "  </style>\n",
              "\n",
              "      <script>\n",
              "        const buttonEl =\n",
              "          document.querySelector('#df-a8a05ce2-3aea-47ef-8f80-620cef1fae80 button.colab-df-convert');\n",
              "        buttonEl.style.display =\n",
              "          google.colab.kernel.accessAllowed ? 'block' : 'none';\n",
              "\n",
              "        async function convertToInteractive(key) {\n",
              "          const element = document.querySelector('#df-a8a05ce2-3aea-47ef-8f80-620cef1fae80');\n",
              "          const dataTable =\n",
              "            await google.colab.kernel.invokeFunction('convertToInteractive',\n",
              "                                                     [key], {});\n",
              "          if (!dataTable) return;\n",
              "\n",
              "          const docLinkHtml = 'Like what you see? Visit the ' +\n",
              "            '<a target=\"_blank\" href=https://colab.research.google.com/notebooks/data_table.ipynb>data table notebook</a>'\n",
              "            + ' to learn more about interactive tables.';\n",
              "          element.innerHTML = '';\n",
              "          dataTable['output_type'] = 'display_data';\n",
              "          await google.colab.output.renderOutput(dataTable, element);\n",
              "          const docLink = document.createElement('div');\n",
              "          docLink.innerHTML = docLinkHtml;\n",
              "          element.appendChild(docLink);\n",
              "        }\n",
              "      </script>\n",
              "    </div>\n",
              "  </div>\n",
              "  "
            ]
          },
          "metadata": {},
          "execution_count": 205
        }
      ],
      "source": [
        "df = pd.concat([df3,df4]).sort_values('CV Error')\n",
        "df"
      ]
    },
    {
      "cell_type": "markdown",
      "id": "796f4501",
      "metadata": {
        "id": "796f4501"
      },
      "source": [
        "### 5d. Final model\n",
        "\n",
        "- RandomForestRegressor"
      ]
    },
    {
      "cell_type": "code",
      "execution_count": 206,
      "id": "f0249879",
      "metadata": {
        "colab": {
          "base_uri": "https://localhost:8080/"
        },
        "id": "f0249879",
        "outputId": "773bdc07-6924-404e-ca03-30ffdab2b1b1"
      },
      "outputs": [
        {
          "output_type": "execute_result",
          "data": {
            "text/plain": [
              "RandomForestRegressor(max_features=5, min_samples_leaf=7, min_samples_split=5,\n",
              "                      n_estimators=200, random_state=0)"
            ]
          },
          "metadata": {},
          "execution_count": 206
        }
      ],
      "source": [
        "final_model = RandomForestRegressor(n_estimators= 200,\n",
        "                                    min_samples_split= 5,\n",
        "                                    min_samples_leaf= 7,\n",
        "                                    max_features= 5, \n",
        "                                    max_depth= None,\n",
        "                                    random_state=0\n",
        "                                   )\n",
        "final_model.fit(X_train, y_train)"
      ]
    },
    {
      "cell_type": "code",
      "execution_count": 207,
      "id": "d8c8d2e7",
      "metadata": {
        "colab": {
          "base_uri": "https://localhost:8080/"
        },
        "id": "d8c8d2e7",
        "outputId": "13303f48-15c7-4227-b16d-b82ac55de4af"
      },
      "outputs": [
        {
          "output_type": "stream",
          "name": "stdout",
          "text": [
            "Train RMSE 1.6802580973193724\n",
            "CV RMSE 2.1119760596835335\n",
            "Test RMSE 2.2038810413027137\n",
            "\n",
            "Test predictions: [13.83485937 10.9797302  16.16323338 12.55751894 14.12479925]\n"
          ]
        }
      ],
      "source": [
        "train_preds = final_model.predict(X_train)\n",
        "cv_preds = final_model.predict(X_cv)\n",
        "test_preds = final_model.predict(X_test)\n",
        "\n",
        "print('Train RMSE',np.sqrt(mean_squared_error(y_train, train_preds)))\n",
        "print('CV RMSE',np.sqrt(mean_squared_error(y_cv, cv_preds)))\n",
        "print('Test RMSE',np.sqrt(mean_squared_error(y_test, test_preds)))\n",
        "print('\\nTest predictions:',test_preds[:5])"
      ]
    },
    {
      "cell_type": "code",
      "execution_count": 208,
      "id": "756addb4",
      "metadata": {
        "colab": {
          "base_uri": "https://localhost:8080/",
          "height": 268
        },
        "id": "756addb4",
        "outputId": "eb5bc164-4744-491e-e853-61b6de2940ae"
      },
      "outputs": [
        {
          "output_type": "display_data",
          "data": {
            "text/plain": [
              "<Figure size 432x288 with 1 Axes>"
            ],
            "image/png": "[encoded data removed]"
          },
          "metadata": {}
        }
      ],
      "source": [
        "pd.Series(final_model.feature_importances_,index=X_train.columns).plot.barh()\n",
        "plt.show()"
      ]
    },
    {
      "cell_type": "markdown",
      "id": "e067f24f",
      "metadata": {
        "id": "e067f24f"
      },
      "source": [
        "# 6. Saving the final model"
      ]
    },
    {
      "cell_type": "code",
      "execution_count": 209,
      "id": "f636aa6e",
      "metadata": {
        "id": "f636aa6e"
      },
      "outputs": [],
      "source": [
        "f = open('rf_model.pkl', 'wb')\n",
        "pickle.dump(final_model, f)\n",
        "f.close()"
      ]
    },
    {
      "cell_type": "code",
      "execution_count": 210,
      "id": "5a9513a5",
      "metadata": {
        "colab": {
          "base_uri": "https://localhost:8080/"
        },
        "id": "5a9513a5",
        "outputId": "d5bcf1a0-3e5b-499b-8cb5-59b239ffaf1c"
      },
      "outputs": [
        {
          "output_type": "stream",
          "name": "stdout",
          "text": [
            "\n",
            "Test predictions: [13.8 11.  16.2 12.6 14.1]\n"
          ]
        }
      ],
      "source": [
        "f = open('rf_model.pkl', 'rb')\n",
        "model = pickle.load(f)\n",
        "f.close()\n",
        "\n",
        "preds = model.predict(X_test)\n",
        "print('\\nTest predictions:',np.round(preds[:5],1))"
      ]
    },
    {
      "cell_type": "code",
      "execution_count": 211,
      "id": "ab11ac32",
      "metadata": {
        "colab": {
          "base_uri": "https://localhost:8080/"
        },
        "id": "ab11ac32",
        "outputId": "2eedba42-469a-4894-893c-63086fc68558"
      },
      "outputs": [
        {
          "output_type": "stream",
          "name": "stdout",
          "text": [
            "Test original: [10.5  9.5 17.5 10.5 15.5]\n"
          ]
        }
      ],
      "source": [
        "print('Test original:', y_test[:5].values)"
      ]
    },
    {
      "cell_type": "code",
      "execution_count": 211,
      "id": "c71ee880",
      "metadata": {
        "id": "c71ee880"
      },
      "outputs": [],
      "source": [
        ""
      ]
    }
  ],
  "metadata": {
    "kernelspec": {
      "display_name": "Python 3.10.5 64-bit",
      "language": "python",
      "name": "python3"
    },
    "language_info": {
      "codemirror_mode": {
        "name": "ipython",
        "version": 3
      },
      "file_extension": ".py",
      "mimetype": "text/x-python",
      "name": "python",
      "nbconvert_exporter": "python",
      "pygments_lexer": "ipython3",
      "version": "3.10.5"
    },
    "vscode": {
      "interpreter": {
        "hash": "2bb176696f1f6b8a34be39e38f440532772b431cc2a777dd2efc9ff38d1a8ba9"
      }
    },
    "colab": {
      "name": "Abalone_age_prediction.ipynb",
      "provenance": []
    }
  },
  "nbformat": 4,
  "nbformat_minor": 5
}